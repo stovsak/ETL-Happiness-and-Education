{
 "cells": [
  {
   "cell_type": "code",
   "execution_count": 114,
   "metadata": {},
   "outputs": [],
   "source": [
    "import pandas as pd"
   ]
  },
  {
   "cell_type": "code",
   "execution_count": 115,
   "metadata": {},
   "outputs": [],
   "source": [
    "GER_df = pd.read_csv(\"Resources/GER_2015.csv\")\n",
    "SLE_df = pd.read_csv(\"Resources/SLE_2015.csv\")\n",
    "Happiness_df = pd.read_csv(\"Resources/happiness_2015.csv\")"
   ]
  },
  {
   "cell_type": "code",
   "execution_count": 116,
   "metadata": {},
   "outputs": [],
   "source": [
    "GER_df.dropna(subset=['2015'], inplace=True)\n",
    "SLE_df.dropna(subset=['2015'], inplace=True)"
   ]
  },
  {
   "cell_type": "code",
   "execution_count": 117,
   "metadata": {},
   "outputs": [],
   "source": [
    "Happiness_df.rename(columns={\"Country\" : \"Country Name\"}, inplace=True)"
   ]
  },
  {
   "cell_type": "code",
   "execution_count": 118,
   "metadata": {},
   "outputs": [],
   "source": [
    "GER_SLE_df = pd.merge(GER_df, SLE_df, how='inner', on='Country Name')"
   ]
  },
  {
   "cell_type": "code",
   "execution_count": 119,
   "metadata": {},
   "outputs": [],
   "source": [
    "all_merged_df = pd.merge(GER_SLE_df, Happiness_df, how='inner', on='Country Name')"
   ]
  },
  {
   "cell_type": "code",
   "execution_count": 120,
   "metadata": {},
   "outputs": [],
   "source": [
    "GER_cleaned = all_merged_df[[\"Country Name\",\"Region\",\"Country Code_x\",\"Indicator Name_x\",\"Indicator Code_x\",\"2015_x\"]].copy()\n",
    "SLE_cleaned = all_merged_df[[\"Country Name\",\"Region\",\"Country Code_y\",\"Indicator Name_y\",\"Indicator Code_y\",\"2015_y\"]].copy()\n",
    "Hap_cleaned = all_merged_df[[\"Country Name\",\"Region\",\"Happiness Rank\",\"Happiness Score\",\"Standard Error\"]].copy()"
   ]
  },
  {
   "cell_type": "code",
   "execution_count": 121,
   "metadata": {},
   "outputs": [],
   "source": [
    "GER_cleaned.rename(columns={\"Country Name\": \"country_name\",\n",
    "                  \"Region\": \"region\",\n",
    "                  \"Country Code_x\": \"country_code\",\n",
    "                  \"Indicator Name_x\": \"indicator_name\",\n",
    "                  \"Indicator Code_x\": \"indicator_code\",\n",
    "                  \"2015_x\": \"ger_value\"}, inplace = True)"
   ]
  },
  {
   "cell_type": "code",
   "execution_count": 122,
   "metadata": {},
   "outputs": [],
   "source": [
    "SLE_cleaned.rename(columns={\"Country Name\": \"country_name\",\n",
    "                  \"Region\": \"region\",\n",
    "                  \"Country Code_y\": \"country_code\",\n",
    "                  \"Indicator Name_y\": \"indicator_name\",\n",
    "                  \"Indicator Code_y\": \"indicator_code\",\n",
    "                  \"2015_y\": \"sle_value\"}, inplace = True)"
   ]
  },
  {
   "cell_type": "code",
   "execution_count": 123,
   "metadata": {},
   "outputs": [],
   "source": [
    "Hap_cleaned.rename(columns={\"Country Name\": \"country_name\",\n",
    "                  \"Region\": \"region\",\n",
    "                  \"Happiness Rank\": \"happiness_rank\",\n",
    "                  \"Happiness Score\": \"happiness_score\",\n",
    "                  \"Standard Error\": \"standard_error\"}, inplace = True)"
   ]
  },
  {
   "cell_type": "code",
   "execution_count": 124,
   "metadata": {},
   "outputs": [],
   "source": [
    "GER_cleaned.to_csv(\"Resources/cleaned_GER_2015.csv\", index=False)"
   ]
  },
  {
   "cell_type": "code",
   "execution_count": 125,
   "metadata": {},
   "outputs": [],
   "source": [
    "SLE_cleaned.to_csv(\"Resources/cleaned_SLE_2015.csv\", index=False)"
   ]
  },
  {
   "cell_type": "code",
   "execution_count": 126,
   "metadata": {},
   "outputs": [],
   "source": [
    "Hap_cleaned.to_csv(\"Resources/cleaned_HAP_2015.csv\", index=False)"
   ]
  },
  {
   "cell_type": "code",
   "execution_count": 127,
   "metadata": {},
   "outputs": [],
   "source": [
    "import requests"
   ]
  },
  {
   "cell_type": "code",
   "execution_count": 128,
   "metadata": {},
   "outputs": [
    {
     "data": {
      "text/plain": [
       "'Afghanistan ( (listen), also pronounced /ævˈɡænᵻstæn, ævˈɡɑːnᵻstɑːn/; Pashto/Dari: افغانستان, Pashto: Afġānistān [avɣɒnisˈtɒn, ab-], Dari: Afġānestān [avɣɒnesˈtɒn]), officially the Islamic Republic of Afghanistan, is a landlocked country at the crossroads of Central and South Asia. Afghanistan is bordered by Pakistan to the east and south; Iran to the west; Turkmenistan, Uzbekistan, and Tajikistan to the north; and China to the northeast.'"
      ]
     },
     "execution_count": 128,
     "metadata": {},
     "output_type": "execute_result"
    }
   ],
   "source": [
    "url = \"https://en.wikipedia.org/w/api.php?action=query&prop=extracts&titles=Afghanistan&exsentences=2&explaintext=1&format=json\"\n",
    "response = requests.get(url).json()\n",
    "list(response['query']['pages'].values())[0]['extract']"
   ]
  },
  {
   "cell_type": "code",
   "execution_count": 129,
   "metadata": {},
   "outputs": [],
   "source": [
    "country_list = GER_cleaned[\"country_name\"].tolist()"
   ]
  },
  {
   "cell_type": "code",
   "execution_count": 130,
   "metadata": {},
   "outputs": [],
   "source": [
    "wiki_list = []\n",
    "for c in country_list:\n",
    "    url = \"https://en.wikipedia.org/w/api.php\"\n",
    "    params = {\n",
    "        \"action\": \"query\",\n",
    "        \"format\": \"json\",\n",
    "        \"prop\": \"extracts\",\n",
    "        \"exsentences\": \"2\",\n",
    "        \"explaintext\": \"1\",\n",
    "        \"titles\": c\n",
    "    }\n",
    "    response = requests.get(url=url, params=params).json()\n",
    "    content = list(response['query']['pages'].values())[0]['extract']\n",
    "    wiki_list.append(content)"
   ]
  },
  {
   "cell_type": "code",
   "execution_count": 131,
   "metadata": {},
   "outputs": [],
   "source": [
    "wiki_dict = {'country': country_list, 'wiki_info': wiki_list}\n",
    "wiki_df = pd.DataFrame(wiki_dict)"
   ]
  },
  {
   "cell_type": "code",
   "execution_count": 132,
   "metadata": {},
   "outputs": [],
   "source": [
    "wiki_df.rename(columns={'country': \"country_name\", 'wiki_info': 'wiki_info'}, inplace=True)"
   ]
  },
  {
   "cell_type": "code",
   "execution_count": 133,
   "metadata": {},
   "outputs": [],
   "source": [
    "wiki_df.to_csv(\"Resources/cleaned_wiki.csv\", index=False)"
   ]
  },
  {
   "cell_type": "code",
   "execution_count": 134,
   "metadata": {},
   "outputs": [],
   "source": [
    "country_list = GER_cleaned[['country_name', 'country_code']]"
   ]
  },
  {
   "cell_type": "code",
   "execution_count": 135,
   "metadata": {},
   "outputs": [],
   "source": [
    "country_list.to_csv(\"Resources/cleaned_list.csv\", index=False)"
   ]
  },
  {
   "cell_type": "markdown",
   "metadata": {},
   "source": [
    "Load dataframe into SQL"
   ]
  },
  {
   "cell_type": "code",
   "execution_count": 136,
   "metadata": {},
   "outputs": [],
   "source": [
    "from sqlalchemy import create_engine"
   ]
  },
  {
   "cell_type": "code",
   "execution_count": 137,
   "metadata": {},
   "outputs": [],
   "source": [
    "connection_string = \"postgres:postgres@localhost:5432/ETF_Project\"\n",
    "engine = create_engine(f'postgresql://{connection_string}')"
   ]
  },
  {
   "cell_type": "code",
   "execution_count": 138,
   "metadata": {},
   "outputs": [
    {
     "data": {
      "text/plain": [
       "['country_list', 'ger_2015', 'sle_2015', 'hap_2015', 'wiki_info']"
      ]
     },
     "execution_count": 138,
     "metadata": {},
     "output_type": "execute_result"
    }
   ],
   "source": [
    "engine.table_names()"
   ]
  },
  {
   "cell_type": "code",
   "execution_count": 139,
   "metadata": {},
   "outputs": [],
   "source": [
    "country_list.to_sql(name='country_list', con=engine, if_exists='append', index=False)"
   ]
  },
  {
   "cell_type": "code",
   "execution_count": 140,
   "metadata": {},
   "outputs": [],
   "source": [
    "GER_cleaned.to_sql(name='ger_2015', con=engine, if_exists='append', index=False)"
   ]
  },
  {
   "cell_type": "code",
   "execution_count": 144,
   "metadata": {},
   "outputs": [],
   "source": [
    "SLE_cleaned.to_sql(name='sle_2015', con=engine, if_exists='append', index=False)"
   ]
  },
  {
   "cell_type": "code",
   "execution_count": 145,
   "metadata": {},
   "outputs": [],
   "source": [
    "Hap_cleaned.to_sql(name='hap_2015', con=engine, if_exists='append', index=False)"
   ]
  },
  {
   "cell_type": "code",
   "execution_count": 147,
   "metadata": {},
   "outputs": [],
   "source": [
    "wiki_df.to_sql(name='wiki_info', con=engine, if_exists='append', index=False)"
   ]
  }
 ],
 "metadata": {
  "kernelspec": {
   "display_name": "Python 3",
   "language": "python",
   "name": "python3"
  },
  "language_info": {
   "codemirror_mode": {
    "name": "ipython",
    "version": 3
   },
   "file_extension": ".py",
   "mimetype": "text/x-python",
   "name": "python",
   "nbconvert_exporter": "python",
   "pygments_lexer": "ipython3",
   "version": "3.8.3"
  }
 },
 "nbformat": 4,
 "nbformat_minor": 4
}
