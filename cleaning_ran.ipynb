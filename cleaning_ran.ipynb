{
 "cells": [
  {
   "cell_type": "code",
   "execution_count": 1,
   "metadata": {},
   "outputs": [],
   "source": [
    "import pandas as pd"
   ]
  },
  {
   "cell_type": "code",
   "execution_count": 20,
   "metadata": {},
   "outputs": [],
   "source": [
    "GER_df = pd.read_csv(\"Resources/GER_2015.csv\")\n",
    "SLE_df = pd.read_csv(\"Resources/SLE_2015.csv\")\n",
    "Happiness_df = pd.read_csv(\"Resources/happiness_2015.csv\")"
   ]
  },
  {
   "cell_type": "code",
   "execution_count": 21,
   "metadata": {},
   "outputs": [],
   "source": [
    "GER_df.dropna(subset=['2015'], inplace=True)\n",
    "SLE_df.dropna(subset=['2015'], inplace=True)"
   ]
  },
  {
   "cell_type": "code",
   "execution_count": 25,
   "metadata": {},
   "outputs": [],
   "source": [
    "Happiness_df.rename(columns={\"Country\" : \"Country Name\"}, inplace=True)"
   ]
  },
  {
   "cell_type": "code",
   "execution_count": 26,
   "metadata": {},
   "outputs": [],
   "source": [
    "GER_SLE_df = pd.merge(GER_df, SLE_df, how='inner', on='Country Name')"
   ]
  },
  {
   "cell_type": "code",
   "execution_count": 28,
   "metadata": {},
   "outputs": [],
   "source": [
    "all_merged_df = pd.merge(GER_SLE_df, Happiness_df, how='inner', on='Country Name')"
   ]
  },
  {
   "cell_type": "code",
   "execution_count": 30,
   "metadata": {},
   "outputs": [],
   "source": [
    "GER_cleaned = all_merged_df[[\"Country Name\",\"Region\",\"Country Code_x\",\"Indicator Name_x\",\"Indicator Code_x\",\"2015_x\"]].copy()\n",
    "SLE_cleaned = all_merged_df[[\"Country Name\",\"Region\",\"Country Code_y\",\"Indicator Name_y\",\"Indicator Code_y\",\"2015_y\"]].copy()\n",
    "Hap_cleaned = all_merged_df[[\"Country Name\",\"Region\",\"Happiness Rank\",\"Happiness Score\",\"Standard Error\"]].copy()"
   ]
  },
  {
   "cell_type": "code",
   "execution_count": 33,
   "metadata": {},
   "outputs": [],
   "source": [
    "GER_cleaned.rename(columns={\"Country Code_x\": \"Country Code\",\n",
    "                  \"Indicator Name_x\": \"Indicator Name\",\n",
    "                  \"Indicator Code_x\": \"Indicator Code\",\n",
    "                  \"2015_x\": \"2015\"}, inplace = True)"
   ]
  },
  {
   "cell_type": "code",
   "execution_count": 34,
   "metadata": {},
   "outputs": [],
   "source": [
    "SLE_cleaned.rename(columns={\"Country Code_y\": \"Country Code\",\n",
    "                  \"Indicator Name_y\": \"Indicator Name\",\n",
    "                  \"Indicator Code_y\": \"Indicator Code\",\n",
    "                  \"2015_y\": \"2015\"}, inplace = True)"
   ]
  },
  {
   "cell_type": "code",
   "execution_count": 36,
   "metadata": {},
   "outputs": [],
   "source": [
    "GER_cleaned.to_csv(\"Resources/cleaned_GER_2015.csv\", index=False)"
   ]
  },
  {
   "cell_type": "code",
   "execution_count": 37,
   "metadata": {},
   "outputs": [],
   "source": [
    "SLE_cleaned.to_csv(\"Resources/cleaned_SLE_2015.csv\", index=False)"
   ]
  },
  {
   "cell_type": "code",
   "execution_count": 38,
   "metadata": {},
   "outputs": [],
   "source": [
    "Hap_cleaned.to_csv(\"Resources/cleaned_HAP_2015.csv\", index=False)"
   ]
  }
 ],
 "metadata": {
  "kernelspec": {
   "display_name": "Python 3",
   "language": "python",
   "name": "python3"
  },
  "language_info": {
   "codemirror_mode": {
    "name": "ipython",
    "version": 3
   },
   "file_extension": ".py",
   "mimetype": "text/x-python",
   "name": "python",
   "nbconvert_exporter": "python",
   "pygments_lexer": "ipython3",
   "version": "3.8.3"
  }
 },
 "nbformat": 4,
 "nbformat_minor": 4
}
