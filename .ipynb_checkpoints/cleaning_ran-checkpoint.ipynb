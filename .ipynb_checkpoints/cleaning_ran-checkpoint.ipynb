{
 "cells": [
  {
   "cell_type": "code",
   "execution_count": 1,
   "metadata": {},
   "outputs": [],
   "source": [
    "import pandas as pd"
   ]
  },
  {
   "cell_type": "code",
   "execution_count": 13,
   "metadata": {},
   "outputs": [],
   "source": [
    "GER_df = pd.read_csv(\"Resources/GER_2015.csv\")\n",
    "SLE_df = pd.read_csv(\"Resources/SLE_2015.csv\")\n",
    "Happiness_df = pd.read_csv(\"Resources/happiness_2015.csv\")"
   ]
  },
  {
   "cell_type": "code",
   "execution_count": 14,
   "metadata": {},
   "outputs": [],
   "source": [
    "GER_df.dropna(subset=['2015'], inplace=True)\n",
    "SLE_df.dropna(subset=['2015'], inplace=True)"
   ]
  },
  {
   "cell_type": "code",
   "execution_count": 15,
   "metadata": {},
   "outputs": [],
   "source": [
    "Happiness_df.rename(columns={\"Country\" : \"Country Name\"}, inplace=True)"
   ]
  },
  {
   "cell_type": "code",
   "execution_count": 16,
   "metadata": {},
   "outputs": [],
   "source": [
    "GER_SLE_df = pd.merge(GER_df, SLE_df, how='inner', on='Country Name')"
   ]
  },
  {
   "cell_type": "code",
   "execution_count": 17,
   "metadata": {},
   "outputs": [],
   "source": [
    "all_merged_df = pd.merge(GER_SLE_df, Happiness_df, how='inner', on='Country Name')"
   ]
  },
  {
   "cell_type": "code",
   "execution_count": 18,
   "metadata": {},
   "outputs": [],
   "source": [
    "GER_cleaned = all_merged_df[[\"Country Name\",\"Region\",\"Country Code_x\",\"Indicator Name_x\",\"Indicator Code_x\",\"2015_x\"]].copy()\n",
    "SLE_cleaned = all_merged_df[[\"Country Name\",\"Region\",\"Country Code_y\",\"Indicator Name_y\",\"Indicator Code_y\",\"2015_y\"]].copy()\n",
    "Hap_cleaned = all_merged_df[[\"Country Name\",\"Region\",\"Happiness Rank\",\"Happiness Score\",\"Standard Error\"]].copy()"
   ]
  },
  {
   "cell_type": "code",
   "execution_count": 19,
   "metadata": {},
   "outputs": [],
   "source": [
    "GER_cleaned.rename(columns={\"Country Code_x\": \"Country Code\",\n",
    "                  \"Indicator Name_x\": \"Indicator Name\",\n",
    "                  \"Indicator Code_x\": \"Indicator Code\",\n",
    "                  \"2015_x\": \"2015\"}, inplace = True)"
   ]
  },
  {
   "cell_type": "code",
   "execution_count": 20,
   "metadata": {},
   "outputs": [],
   "source": [
    "SLE_cleaned.rename(columns={\"Country Code_y\": \"Country Code\",\n",
    "                  \"Indicator Name_y\": \"Indicator Name\",\n",
    "                  \"Indicator Code_y\": \"Indicator Code\",\n",
    "                  \"2015_y\": \"2015\"}, inplace = True)"
   ]
  },
  {
   "cell_type": "code",
   "execution_count": 36,
   "metadata": {},
   "outputs": [],
   "source": [
    "GER_cleaned.to_csv(\"Resources/cleaned_GER_2015.csv\", index=False)"
   ]
  },
  {
   "cell_type": "code",
   "execution_count": 37,
   "metadata": {},
   "outputs": [],
   "source": [
    "SLE_cleaned.to_csv(\"Resources/cleaned_SLE_2015.csv\", index=False)"
   ]
  },
  {
   "cell_type": "code",
   "execution_count": 38,
   "metadata": {},
   "outputs": [],
   "source": [
    "Hap_cleaned.to_csv(\"Resources/cleaned_HAP_2015.csv\", index=False)"
   ]
  },
  {
   "cell_type": "code",
   "execution_count": 2,
   "metadata": {},
   "outputs": [],
   "source": [
    "import requests"
   ]
  },
  {
   "cell_type": "code",
   "execution_count": 50,
   "metadata": {},
   "outputs": [
    {
     "data": {
      "text/plain": [
       "'Afghanistan ( (listen), also pronounced /ævˈɡænᵻstæn, ævˈɡɑːnᵻstɑːn/; Pashto/Dari: افغانستان, Pashto: Afġānistān [avɣɒnisˈtɒn, ab-], Dari: Afġānestān [avɣɒnesˈtɒn]), officially the Islamic Republic of Afghanistan, is a landlocked country at the crossroads of Central and South Asia. Afghanistan is bordered by Pakistan to the east and south; Iran to the west; Turkmenistan, Uzbekistan, and Tajikistan to the north; and China to the northeast.'"
      ]
     },
     "execution_count": 50,
     "metadata": {},
     "output_type": "execute_result"
    }
   ],
   "source": [
    "url = \"https://en.wikipedia.org/w/api.php?action=query&prop=extracts&titles=Afghanistan&exsentences=2&explaintext=1&format=json\"\n",
    "response = requests.get(url).json()\n",
    "list(response['query']['pages'].values())[0]['extract']"
   ]
  },
  {
   "cell_type": "code",
   "execution_count": 51,
   "metadata": {},
   "outputs": [],
   "source": [
    "country_list = GER_cleaned[\"Country Name\"].tolist()"
   ]
  },
  {
   "cell_type": "code",
   "execution_count": 56,
   "metadata": {},
   "outputs": [],
   "source": [
    "wiki_list = []\n",
    "for c in country_list:\n",
    "    url = \"https://en.wikipedia.org/w/api.php\"\n",
    "    params = {\n",
    "        \"action\": \"query\",\n",
    "        \"format\": \"json\",\n",
    "        \"prop\": \"extracts\",\n",
    "        \"exsentences\": \"2\",\n",
    "        \"explaintext\": \"1\",\n",
    "        \"titles\": c\n",
    "    }\n",
    "    response = requests.get(url=url, params=params).json()\n",
    "    content = list(response['query']['pages'].values())[0]['extract']\n",
    "    wiki_list.append(content)"
   ]
  },
  {
   "cell_type": "code",
   "execution_count": 58,
   "metadata": {},
   "outputs": [],
   "source": [
    "wiki_dict = {'country': country_list, 'wiki_info': wiki_list}\n",
    "wiki_df = pd.DataFrame(wiki_dict)"
   ]
  },
  {
   "cell_type": "code",
   "execution_count": 65,
   "metadata": {},
   "outputs": [],
   "source": [
    "wiki_df.rename(columns={'country': \"Country Name\", 'wiki_info': 'Wiki info'}, inplace=True)"
   ]
  },
  {
   "cell_type": "code",
   "execution_count": 67,
   "metadata": {},
   "outputs": [],
   "source": [
    "wiki_df.to_csv(\"Resources/cleaned_wiki.csv\", index=False)"
   ]
  },
  {
   "cell_type": "code",
   "execution_count": 69,
   "metadata": {},
   "outputs": [],
   "source": [
    "country_list = GER_cleaned[['Country Name', 'Country Code']]"
   ]
  },
  {
   "cell_type": "code",
   "execution_count": 71,
   "metadata": {},
   "outputs": [],
   "source": [
    "country_list.to_csv(\"Resources/cleaned_list.csv\", index=False)"
   ]
  }
 ],
 "metadata": {
  "kernelspec": {
   "display_name": "Python 3",
   "language": "python",
   "name": "python3"
  },
  "language_info": {
   "codemirror_mode": {
    "name": "ipython",
    "version": 3
   },
   "file_extension": ".py",
   "mimetype": "text/x-python",
   "name": "python",
   "nbconvert_exporter": "python",
   "pygments_lexer": "ipython3",
   "version": "3.8.3"
  }
 },
 "nbformat": 4,
 "nbformat_minor": 4
}
